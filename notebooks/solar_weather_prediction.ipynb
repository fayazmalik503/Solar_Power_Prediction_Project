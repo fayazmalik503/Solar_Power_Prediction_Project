{
 "cells": [
  {
   "cell_type": "markdown",
   "id": "6b665e9b",
   "metadata": {},
   "source": [
    "# 🌞 Solar Weather Prediction Project\n",
    "Welcome to the starter notebook for predicting solar irradiance using weather data."
   ]
  },
  {
   "cell_type": "markdown",
   "id": "ba382297",
   "metadata": {},
   "source": [
    "## 🧠 Problem Definition\n",
    "Define the problem and objective of this project.\n",
    "- Goal: Predict solar irradiance for Karachi using past weather data\n",
    "- Use: Help solar companies forecast energy output"
   ]
  },
  {
   "cell_type": "markdown",
   "id": "08af6aa5",
   "metadata": {},
   "source": [
    "## 📥 Data Collection\n",
    "We'll use the Meteostat API to fetch historical weather data for Karachi."
   ]
  },
  {
   "cell_type": "code",
   "execution_count": null,
   "id": "16b28ead",
   "metadata": {},
   "outputs": [],
   "source": [
    "\n",
    "from meteostat import Point, Daily\n",
    "from datetime import datetime\n",
    "import pandas as pd\n",
    "\n",
    "# Define location (Karachi)\n",
    "karachi = Point(24.8607, 67.0011, 8)\n",
    "\n",
    "# Date range\n",
    "start = datetime(2023, 7, 1)\n",
    "end = datetime(2024, 7, 1)\n",
    "\n",
    "# Fetch data\n",
    "data = Daily(karachi, start, end)\n",
    "df = data.fetch()\n",
    "\n",
    "# Show first rows\n",
    "df.head()\n"
   ]
  },
  {
   "cell_type": "markdown",
   "id": "bcd4cfd0",
   "metadata": {},
   "source": [
    "## 🧹 Data Cleaning\n",
    "Clean null values, format dates, and prepare the data."
   ]
  },
  {
   "cell_type": "code",
   "execution_count": null,
   "id": "b8f8b9dc",
   "metadata": {},
   "outputs": [],
   "source": [
    "\n",
    "# Check for missing values\n",
    "print(df.isnull().sum())\n",
    "\n",
    "# Drop or fill missing values\n",
    "df = df.dropna()\n",
    "\n",
    "# Reset index\n",
    "df = df.reset_index()\n",
    "df.head()\n"
   ]
  },
  {
   "cell_type": "markdown",
   "id": "d3b09bb2",
   "metadata": {},
   "source": [
    "## 📊 EDA (Exploratory Data Analysis)\n",
    "Visualize trends and understand correlations."
   ]
  },
  {
   "cell_type": "code",
   "execution_count": null,
   "id": "bb76037b",
   "metadata": {},
   "outputs": [],
   "source": [
    "\n",
    "import matplotlib.pyplot as plt\n",
    "\n",
    "# Plot temperature over time\n",
    "plt.figure(figsize=(12, 4))\n",
    "plt.plot(df['time'], df['tavg'])\n",
    "plt.title('Average Temperature Over Time')\n",
    "plt.xlabel('Date')\n",
    "plt.ylabel('Temperature (°C)')\n",
    "plt.grid(True)\n",
    "plt.show()\n"
   ]
  },
  {
   "cell_type": "markdown",
   "id": "c9deffdd",
   "metadata": {},
   "source": [
    "## 🧠 Model Training\n",
    "Train a machine learning model to predict solar irradiance."
   ]
  },
  {
   "cell_type": "code",
   "execution_count": null,
   "id": "b649058c",
   "metadata": {},
   "outputs": [],
   "source": [
    "\n",
    "from sklearn.model_selection import train_test_split\n",
    "from sklearn.ensemble import RandomForestRegressor\n",
    "from sklearn.metrics import mean_absolute_error, mean_squared_error\n",
    "\n",
    "# Example feature and target\n",
    "df = df.dropna()\n",
    "X = df[['tavg', 'tmin', 'tmax', 'prcp', 'wspd']]  # features\n",
    "y = df['tsun']  # target: sunshine duration (or replace with irradiance if available)\n",
    "\n",
    "# Split\n",
    "X_train, X_test, y_train, y_test = train_test_split(X, y, test_size=0.2, random_state=42)\n",
    "\n",
    "# Train\n",
    "model = RandomForestRegressor()\n",
    "model.fit(X_train, y_train)\n",
    "\n",
    "# Predict\n",
    "y_pred = model.predict(X_test)\n",
    "\n",
    "# Evaluate\n",
    "mae = mean_absolute_error(y_test, y_pred)\n",
    "rmse = mean_squared_error(y_test, y_pred, squared=False)\n",
    "print(f\"MAE: {mae:.2f}, RMSE: {rmse:.2f}\")\n"
   ]
  },
  {
   "cell_type": "markdown",
   "id": "25e84b75",
   "metadata": {},
   "source": [
    "## 💾 Save Model\n",
    "Save the trained model for later use."
   ]
  },
  {
   "cell_type": "code",
   "execution_count": null,
   "id": "1fe5002e",
   "metadata": {},
   "outputs": [],
   "source": [
    "\n",
    "import joblib\n",
    "\n",
    "# Save model\n",
    "joblib.dump(model, 'models/solar_model.pkl')\n"
   ]
  },
  {
   "cell_type": "markdown",
   "id": "e7eb5878",
   "metadata": {},
   "source": [
    "## 📤 Deployment (Optional)\n",
    "Later you can build a Streamlit dashboard to use this model interactively."
   ]
  }
 ],
 "metadata": {},
 "nbformat": 4,
 "nbformat_minor": 5
}